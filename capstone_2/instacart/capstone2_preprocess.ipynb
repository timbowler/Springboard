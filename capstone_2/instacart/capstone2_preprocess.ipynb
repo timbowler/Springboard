{
 "cells": [
  {
   "cell_type": "markdown",
   "metadata": {},
   "source": [
    "### Feature Engineering (capstone2_preprocess.ipynb)\n",
    " \n",
    "#### Product features\n",
    " \n",
    "* number of apearance in all the history orders\n",
    "* total reorder number\n",
    "* reorder ratio (product level)\n",
    "* number of users who purchased this product\n",
    "* average and standard deviation of add_to_cart_order\n",
    "* average and standard deviation of purchase day_of_week (Monday, Tuesday, ...)\n",
    "* average and standard deviation of purchase hour_of_day (8 am, 9am, ...)\n",
    "* recency (captures if the product is generally brought more in users earlier orders or later orders)\n",
    "* number of orders of user who bought this product \n",
    "* number of users who purchased this product only once / more than once\n",
    "\n",
    "#### User features\n",
    "\n",
    "* number of Aisles/Departments a user purchased products from\n",
    "* number of total history orders of a user\n",
    "* reorder ratio (user level)\n",
    "* average and standard deviation of days between history orders\n",
    "* average and standard deviation of number of products purchased in the same order\n",
    "* number of total / distinct products purchased\n",
    "* average and standard deviation of add_to_cart_order (user level)\n",
    "* average and standard deviation of interval between two orders which contained the same product"
   ]
  },
  {
   "cell_type": "code",
   "execution_count": 1,
   "metadata": {},
   "outputs": [],
   "source": [
    "import numpy as np\n",
    "import time\n",
    "from scipy import stats\n",
    "import pandas as pd\n",
    "import gc\n",
    "import warnings\n",
    "warnings.filterwarnings('ignore')"
   ]
  },
  {
   "cell_type": "code",
   "execution_count": 2,
   "metadata": {},
   "outputs": [],
   "source": [
    "class time_it:\n",
    "    def __init__(self, process_name, verbose=1):\n",
    "        self.process_name = process_name\n",
    "        self.verbose = verbose\n",
    "    def __enter__(self):\n",
    "        if self.verbose:\n",
    "            print(self.process_name + ' begin ...')\n",
    "            self.begin_time = time.time()\n",
    "    def __exit__(self, type, value, traceback):\n",
    "        if self.verbose:\n",
    "            end_time = time.time()\n",
    "            print(self.process_name + ' end ...')\n",
    "            print('duration {0} s \\n'.format(end_time - self.begin_time))"
   ]
  },
  {
   "cell_type": "markdown",
   "metadata": {},
   "source": [
    "#### Create statistical columns, group by [N columns] and compute stats on [N column]\n",
    "       \n",
    "*Parameters*\n",
    "\n",
    "df: pandas dataframe\n",
    "\n",
    "    Features matrix\n",
    "\n",
    "group_columns_list: list like\n",
    "\n",
    "    List of columns to group with\n",
    "\n",
    "agg_dict: python dictionary\n",
    "\n",
    "*Return*\n",
    "\n",
    "new pandas dataframe with original columns and new added columns\n",
    "\n",
    "*Example*\n",
    "```python\n",
    "{real_column_name:{your_specified_new_column_name:method}}\n",
    "agg_dict = {'user_id':{'prod_tot_cnts':'count'}, \n",
    "            'reordered':{'reordered_tot_cnts_of_this_prod':'sum'}, \n",
    "            'user_buy_product_times':{'prod_order_once':lambda x: sum(x==1), \n",
    "                                      'prod_order_more_than_once':lambda x: sum(x==2)}}\n",
    "ka_add_groupby_features_1_vs_n(train, ['product_id'], agg_dict)\n",
    "```"
   ]
  },
  {
   "cell_type": "code",
   "execution_count": 3,
   "metadata": {},
   "outputs": [],
   "source": [
    "def ka_add_groupby_features_1_vs_n(df, group_columns_list, agg_dict, only_new_feature=True):\n",
    "    with time_it('add stats features'):\n",
    "        try:\n",
    "            if type(group_columns_list) == list:\n",
    "                pass\n",
    "            else:\n",
    "                raise TypeError(k + 'should be a list')\n",
    "        except TypeError as e:\n",
    "            print(e)\n",
    "            raise\n",
    "                \n",
    "        df_new = df.copy()\n",
    "        grouped = df_new.groupby(group_columns_list)\n",
    "            \n",
    "        the_stats = grouped.agg(agg_dict)\n",
    "        the_stats.columns = the_stats.columns.droplevel(0)\n",
    "        the_stats.reset_index(inplace=True)\n",
    "        if only_new_feature:\n",
    "            df_new = the_stats\n",
    "        else:\n",
    "            df_new = pd.merge(left=df_new, right=the_stats, on=group_columns_list, how='left')\n",
    "            \n",
    "        return df_new"
   ]
  },
  {
   "cell_type": "markdown",
   "metadata": {},
   "source": [
    "#### LOAD DATA"
   ]
  },
  {
   "cell_type": "code",
   "execution_count": 4,
   "metadata": {},
   "outputs": [
    {
     "name": "stdout",
     "output_type": "stream",
     "text": [
      "loading prior\n"
     ]
    }
   ],
   "source": [
    "print('loading prior')\n",
    "priors = pd.read_csv('order_products__prior.csv', dtype={'order_id': np.int32, \n",
    "                                                         'product_id': np.uint16, \n",
    "                                                         'add_to_cart_order': np.int16, \n",
    "                                                         'reordered': np.int8})"
   ]
  },
  {
   "cell_type": "code",
   "execution_count": 5,
   "metadata": {},
   "outputs": [
    {
     "name": "stdout",
     "output_type": "stream",
     "text": [
      "loading train\n"
     ]
    }
   ],
   "source": [
    "print('loading train')\n",
    "train = pd.read_csv('order_products__train.csv', dtype={'order_id': np.int32, \n",
    "                                                        'product_id': np.uint16,\n",
    "                                                        'add_to_cart_order': np.int16,\n",
    "                                                        'reordered': np.int8})"
   ]
  },
  {
   "cell_type": "code",
   "execution_count": 6,
   "metadata": {},
   "outputs": [
    {
     "name": "stdout",
     "output_type": "stream",
     "text": [
      "loading orders\n"
     ]
    }
   ],
   "source": [
    "print('loading orders')\n",
    "orders = pd.read_csv('orders.csv', dtype={'order_id': np.int32,\n",
    "                                          'user_id': np.int32,\n",
    "                                          'eval_set': 'category',\n",
    "                                          'order_number': np.int16,\n",
    "                                          'order_dow': np.int8,\n",
    "                                          'order_hour_of_day': np.int8,\n",
    "                                          'days_since_prior_order': np.float32})"
   ]
  },
  {
   "cell_type": "code",
   "execution_count": 7,
   "metadata": {},
   "outputs": [
    {
     "name": "stdout",
     "output_type": "stream",
     "text": [
      "loading products\n"
     ]
    }
   ],
   "source": [
    "print('loading products')\n",
    "products = pd.read_csv('products.csv', dtype={'product_id': np.uint16,\n",
    "                                              'order_id': np.int32,\n",
    "                                              'aisle_id': 'category',\n",
    "                                              'department_id': 'category'})\n",
    "products.drop('product_name', axis=1, inplace=True)"
   ]
  },
  {
   "cell_type": "code",
   "execution_count": 8,
   "metadata": {},
   "outputs": [
    {
     "name": "stdout",
     "output_type": "stream",
     "text": [
      "loading aisles.csv\n"
     ]
    }
   ],
   "source": [
    "print('loading aisles.csv')\n",
    "aisles = pd.read_csv('aisles.csv', dtype={'aisle_id': np.uint8,\n",
    "                                          'aisle': 'category'})"
   ]
  },
  {
   "cell_type": "code",
   "execution_count": 9,
   "metadata": {},
   "outputs": [
    {
     "name": "stdout",
     "output_type": "stream",
     "text": [
      "loading departments.csv\n"
     ]
    }
   ],
   "source": [
    "print('loading departments.csv')\n",
    "departments = pd.read_csv('departments.csv', dtype={'department_id': np.uint8,\n",
    "                                                    'department': 'category'})"
   ]
  },
  {
   "cell_type": "markdown",
   "metadata": {},
   "source": [
    "#### PRODUCT FEATURES"
   ]
  },
  {
   "cell_type": "code",
   "execution_count": 10,
   "metadata": {},
   "outputs": [
    {
     "name": "stdout",
     "output_type": "stream",
     "text": [
      "computing product f\n"
     ]
    }
   ],
   "source": [
    "print('computing product f')\n",
    "prod_f = pd.DataFrame()"
   ]
  },
  {
   "cell_type": "markdown",
   "metadata": {},
   "source": [
    "Appear in how many orders"
   ]
  },
  {
   "cell_type": "code",
   "execution_count": 11,
   "metadata": {},
   "outputs": [],
   "source": [
    "prod_f['appearOrderCount'] = priors['order_id'].groupby(priors.product_id).count().astype(np.uint16)"
   ]
  },
  {
   "cell_type": "markdown",
   "metadata": {},
   "source": [
    "Total reorder times"
   ]
  },
  {
   "cell_type": "code",
   "execution_count": 12,
   "metadata": {},
   "outputs": [],
   "source": [
    "prod_f['reorderCount'] = priors['reordered'].groupby(priors.product_id).sum().astype(np.float32)"
   ]
  },
  {
   "cell_type": "markdown",
   "metadata": {},
   "source": [
    "Reorder ratio"
   ]
  },
  {
   "cell_type": "code",
   "execution_count": 13,
   "metadata": {},
   "outputs": [],
   "source": [
    "prod_f['reorderRatio'] = (prod_f['reorderCount'] / prod_f['appearOrderCount']).astype(np.float32)"
   ]
  },
  {
   "cell_type": "markdown",
   "metadata": {},
   "source": [
    "Mean and Std Dev of add_to_cart_order"
   ]
  },
  {
   "cell_type": "code",
   "execution_count": 14,
   "metadata": {},
   "outputs": [],
   "source": [
    "prod_f['add_to_cart_orderMean'] = priors['add_to_cart_order'].groupby(priors.product_id).mean().astype(np.float32)\n",
    "prod_f['add_to_cart_orderStd'] = priors['add_to_cart_order'].groupby(priors.product_id).std().astype(np.float32)"
   ]
  },
  {
   "cell_type": "code",
   "execution_count": 15,
   "metadata": {},
   "outputs": [],
   "source": [
    "# temp merge\n",
    "priorsXorders=priors.merge(orders,how='inner',on='order_id')"
   ]
  },
  {
   "cell_type": "markdown",
   "metadata": {},
   "source": [
    "Bought by how many users"
   ]
  },
  {
   "cell_type": "code",
   "execution_count": 16,
   "metadata": {},
   "outputs": [],
   "source": [
    "prod_f['boughtUserCount'] = priorsXorders['user_id'].groupby(priorsXorders.product_id).count().astype(np.uint16)"
   ]
  },
  {
   "cell_type": "markdown",
   "metadata": {},
   "source": [
    "Bought day of week"
   ]
  },
  {
   "cell_type": "code",
   "execution_count": 17,
   "metadata": {},
   "outputs": [],
   "source": [
    "prod_f['order_dowMean'] = priorsXorders['order_dow'].groupby(priorsXorders.product_id).mean().astype(np.float32)\n",
    "prod_f['order_dowStd'] = priorsXorders['order_dow'].groupby(priorsXorders.product_id).std().astype(np.float32)"
   ]
  },
  {
   "cell_type": "markdown",
   "metadata": {},
   "source": [
    "Bought time"
   ]
  },
  {
   "cell_type": "code",
   "execution_count": 18,
   "metadata": {},
   "outputs": [],
   "source": [
    "prod_f['order_hour_of_dayMean'] = priorsXorders['order_hour_of_day'].groupby(priorsXorders.product_id).mean().astype(np.float32)\n",
    "prod_f['order_hour_of_dayStd'] = priorsXorders['order_hour_of_day'].groupby(priorsXorders.product_id).std().astype(np.float32)"
   ]
  },
  {
   "cell_type": "markdown",
   "metadata": {},
   "source": [
    "Fill NA Std Dev as 0; if there is only one sample, Std Dev = NA"
   ]
  },
  {
   "cell_type": "code",
   "execution_count": 19,
   "metadata": {},
   "outputs": [],
   "source": [
    "prod_f.fillna(0, inplace=True)"
   ]
  },
  {
   "cell_type": "markdown",
   "metadata": {},
   "source": [
    "##### Recenctly purchased\n",
    "\n",
    "This is a feature which captures if the product is generally brought more in users earlier orders or later orders"
   ]
  },
  {
   "cell_type": "code",
   "execution_count": 20,
   "metadata": {},
   "outputs": [],
   "source": [
    "maxPriorOrder = priorsXorders['order_number'].groupby(priorsXorders.user_id).max().astype(np.float32)\n",
    "maxPriorOrder = maxPriorOrder.rename('userMaxPriorOrderNumber')\n",
    "maxPriorOrder = pd.DataFrame(maxPriorOrder)\n",
    "priorsXorders = priorsXorders.merge(maxPriorOrder, how='left', left_on='user_id', right_index=True)\n",
    "priorsXorders['recency'] = (priorsXorders['order_number'] / priorsXorders['userMaxPriorOrderNumber']).astype(np.float32)\n",
    "prod_f['recencyMean'] = priorsXorders['recency'].groupby(priorsXorders.product_id).mean().astype(np.float32)\n",
    "prod_f['recencyStd'] = priorsXorders['recency'].groupby(priorsXorders.product_id).std().astype(np.float32)"
   ]
  },
  {
   "cell_type": "markdown",
   "metadata": {},
   "source": [
    "User who bought this product had how many orders -- userMaxPriorOrderNumber"
   ]
  },
  {
   "cell_type": "code",
   "execution_count": 21,
   "metadata": {},
   "outputs": [],
   "source": [
    "prod_f['userMaxPriorOrderNumberMean'] = priorsXorders['userMaxPriorOrderNumber'].groupby(priorsXorders.product_id). \\\n",
    "                                                                                 mean(). \\\n",
    "                                                                                 astype(np.float32)\n",
    "prod_f['userMaxPriorOrderNumberStd'] = priorsXorders['userMaxPriorOrderNumber'].groupby(priorsXorders.product_id). \\\n",
    "                                                                                std(). \\\n",
    "                                                                                astype(np.float32)"
   ]
  },
  {
   "cell_type": "markdown",
   "metadata": {},
   "source": [
    "Fill NA Std Dev as 0; if there is only one sample, Std Dev = NA"
   ]
  },
  {
   "cell_type": "code",
   "execution_count": 22,
   "metadata": {},
   "outputs": [],
   "source": [
    "prod_f.fillna(0, inplace=True)"
   ]
  },
  {
   "cell_type": "code",
   "execution_count": null,
   "metadata": {},
   "outputs": [],
   "source": []
  },
  {
   "cell_type": "code",
   "execution_count": 23,
   "metadata": {},
   "outputs": [],
   "source": [
    "priorsXorders['_user_buy_product_times'] = priorsXorders.groupby(['user_id', 'product_id']).cumcount() + 1\n",
    "tmp_group=priorsXorders['_user_buy_product_times'].groupby(priorsXorders.product_id)"
   ]
  },
  {
   "cell_type": "markdown",
   "metadata": {},
   "source": [
    "Prodoct order once "
   ]
  },
  {
   "cell_type": "code",
   "execution_count": 24,
   "metadata": {},
   "outputs": [],
   "source": [
    "prod_f['_prod_order_once'] = tmp_group.aggregate(lambda x: sum(x==1))"
   ]
  },
  {
   "cell_type": "markdown",
   "metadata": {},
   "source": [
    "Product order, more than one"
   ]
  },
  {
   "cell_type": "code",
   "execution_count": 25,
   "metadata": {},
   "outputs": [],
   "source": [
    "prod_f['_prod_order_more_than_once'] = tmp_group.aggregate(lambda x: sum(x==2))"
   ]
  },
  {
   "cell_type": "markdown",
   "metadata": {},
   "source": [
    "Product in last order = 0; previous order = 1; order before that = 2"
   ]
  },
  {
   "cell_type": "code",
   "execution_count": 26,
   "metadata": {},
   "outputs": [],
   "source": [
    "priorsXorders['lastNOrder'] = priorsXorders['userMaxPriorOrderNumber'] - priorsXorders['order_number']\n",
    "prod_f['apperInLastNOrderMean'] = priorsXorders['lastNOrder'].groupby(priorsXorders.product_id).mean().astype(np.float32)\n",
    "prod_f['apperInLastNOrderStd'] = priorsXorders['lastNOrder'].groupby(priorsXorders.product_id).std().astype(np.float32)\n",
    "prod_f['apperInLastNOrderMax'] = priorsXorders['lastNOrder'].groupby(priorsXorders.product_id).max().astype(np.float32)\n",
    "prod_f['apperInLastNOrderMin'] = priorsXorders['lastNOrder'].groupby(priorsXorders.product_id).min().astype(np.float32)"
   ]
  },
  {
   "cell_type": "markdown",
   "metadata": {},
   "source": [
    "Fill NA Std Dev as 0; if there is only one sample, Std Dev = NA"
   ]
  },
  {
   "cell_type": "code",
   "execution_count": 27,
   "metadata": {},
   "outputs": [],
   "source": [
    "prod_f.fillna(0, inplace=True)"
   ]
  },
  {
   "cell_type": "code",
   "execution_count": null,
   "metadata": {},
   "outputs": [],
   "source": []
  },
  {
   "cell_type": "code",
   "execution_count": 28,
   "metadata": {},
   "outputs": [
    {
     "data": {
      "text/plain": [
       "160"
      ]
     },
     "execution_count": 28,
     "metadata": {},
     "output_type": "execute_result"
    }
   ],
   "source": [
    "prd = products.merge(prod_f, how='inner', left_on='product_id', right_index=True)\n",
    "del prod_f\n",
    "gc.collect()"
   ]
  },
  {
   "cell_type": "markdown",
   "metadata": {},
   "source": [
    "#### USER FEATURES"
   ]
  },
  {
   "cell_type": "code",
   "execution_count": 29,
   "metadata": {},
   "outputs": [
    {
     "name": "stdout",
     "output_type": "stream",
     "text": [
      "building user features...\n"
     ]
    }
   ],
   "source": [
    "print('building user features...')\n",
    "user_f = pd.DataFrame()\n",
    "priorsXordersXproducts = priorsXorders.merge(products, how='inner', on='product_id')"
   ]
  },
  {
   "cell_type": "markdown",
   "metadata": {},
   "source": [
    "Aisle purchases and Department purchases"
   ]
  },
  {
   "cell_type": "code",
   "execution_count": 30,
   "metadata": {},
   "outputs": [],
   "source": [
    "tmp_group = priorsXordersXproducts['aisle_id'].groupby(priorsXordersXproducts.user_id)\n",
    "unique_aisle_ids = tmp_group.unique()\n",
    "for i in range(len(unique_aisle_ids)):\n",
    "    unique_aisle_ids.iloc[i] = len(unique_aisle_ids.iloc[i])\n",
    "user_f['uniqueAisleCount'] = unique_aisle_ids\n",
    "user_f['uniqueAisleCount'] = user_f['uniqueAisleCount'].astype(np.int16)\n",
    "user_f['freqAisle'] = tmp_group.agg(lambda x: stats.mode(x)[0][0])\n",
    "user_f['freqAisle'] = user_f['freqAisle'].astype(np.int16)"
   ]
  },
  {
   "cell_type": "code",
   "execution_count": null,
   "metadata": {},
   "outputs": [],
   "source": []
  },
  {
   "cell_type": "code",
   "execution_count": 31,
   "metadata": {},
   "outputs": [],
   "source": [
    "tmp_group = priorsXordersXproducts['department_id'].groupby(priorsXordersXproducts.user_id)\n",
    "unique_department_ids = tmp_group.unique()\n",
    "for i in range(len(unique_department_ids)):\n",
    "    unique_department_ids.iloc[i]=len(unique_department_ids.iloc[i])\n",
    "user_f['uniqueDepartmentCount'] = unique_department_ids\n",
    "user_f['uniqueDepartmentCount'] = user_f['uniqueDepartmentCount'].astype(np.int16)\n",
    "user_f['freqDepartment'] = tmp_group.agg(lambda x: stats.mode(x)[0][0])\n",
    "user_f['freqDepartment'] = user_f['freqDepartment'].astype(np.int16)"
   ]
  },
  {
   "cell_type": "markdown",
   "metadata": {},
   "source": [
    "User total orders"
   ]
  },
  {
   "cell_type": "code",
   "execution_count": 32,
   "metadata": {},
   "outputs": [],
   "source": [
    "user_f['_user_total_orders'] = priorsXorders['order_number'].groupby(priorsXorders.user_id).max().astype(np.float32)"
   ]
  },
  {
   "cell_type": "markdown",
   "metadata": {},
   "source": [
    "User mean and std dev of days since prior order"
   ]
  },
  {
   "cell_type": "code",
   "execution_count": 33,
   "metadata": {},
   "outputs": [],
   "source": [
    "user_f['days_since_prior_orderMean'] = priorsXordersXproducts['days_since_prior_order']. \\\n",
    "                                       groupby(priorsXordersXproducts.user_id).mean().astype(np.float32)\n",
    "user_f['days_since_prior_orderStd'] = priorsXordersXproducts['days_since_prior_order']. \\\n",
    "                                      groupby(priorsXordersXproducts.user_id).std().astype(np.float32)"
   ]
  },
  {
   "cell_type": "markdown",
   "metadata": {},
   "source": [
    "_user_reorder_ratio, _user_total_products, _user_distinct_products"
   ]
  },
  {
   "cell_type": "code",
   "execution_count": 34,
   "metadata": {},
   "outputs": [],
   "source": [
    "tmp_group = priorsXorders['product_id'].groupby(priorsXorders.user_id)\n",
    "user_f['_user_total_products'] = tmp_group.count()\n",
    "user_f['_user_distinct_products'] = tmp_group.agg(lambda x: x.nunique())"
   ]
  },
  {
   "cell_type": "code",
   "execution_count": 35,
   "metadata": {},
   "outputs": [],
   "source": [
    "tmp_group = priorsXorders['reordered'].groupby(priorsXorders.user_id)\n",
    "user_f['_user_reorder_ratio'] = (priorsXorders.groupby('user_id')['reordered'].sum() / \\\n",
    "                                 priorsXorders[priorsXorders['order_number'] > 1]. \\\n",
    "                                 groupby('user_id')['order_number']. \\\n",
    "                                 count()).rename('_user_reorder_ratio')"
   ]
  },
  {
   "cell_type": "markdown",
   "metadata": {},
   "source": [
    "Bucket size"
   ]
  },
  {
   "cell_type": "code",
   "execution_count": 36,
   "metadata": {},
   "outputs": [],
   "source": [
    "order_size = priorsXordersXproducts['product_id'].groupby(priorsXordersXproducts.order_id).count().astype(np.uint8)\n",
    "order_size = order_size.rename('order_size')\n",
    "order_size = pd.DataFrame(order_size)\n",
    "priorsXordersXproducts = priorsXordersXproducts.merge(order_size, how='left', left_on='order_id', right_index=True)"
   ]
  },
  {
   "cell_type": "code",
   "execution_count": null,
   "metadata": {},
   "outputs": [],
   "source": []
  },
  {
   "cell_type": "code",
   "execution_count": 37,
   "metadata": {},
   "outputs": [],
   "source": [
    "tmp_group = priorsXordersXproducts['order_size'].groupby(priorsXordersXproducts.user_id)\n",
    "user_f['order_size_mean'] = tmp_group.mean()\n",
    "user_f['order_size_std'] = tmp_group.std()\n",
    "user_f['order_size_max'] = tmp_group.max()\n",
    "user_f['order_size_min'] = tmp_group.min()"
   ]
  },
  {
   "cell_type": "code",
   "execution_count": 38,
   "metadata": {},
   "outputs": [],
   "source": [
    "us = orders[orders.eval_set != \"prior\"][['user_id', 'order_id', 'eval_set', 'days_since_prior_order']]\n",
    "us.rename(index=str, columns={'days_since_prior_order': 'time_since_last_order'}, inplace=True)"
   ]
  },
  {
   "cell_type": "code",
   "execution_count": 39,
   "metadata": {},
   "outputs": [],
   "source": [
    "user_f = user_f.merge(us, how='inner', left_index=True, right_on='user_id')"
   ]
  },
  {
   "cell_type": "markdown",
   "metadata": {},
   "source": [
    "#### USER AND PRODUCT"
   ]
  },
  {
   "cell_type": "markdown",
   "metadata": {},
   "source": [
    "_up_order_count, _up_first_order_number, _up_last_order_number, _up_average_cart_position"
   ]
  },
  {
   "cell_type": "code",
   "execution_count": 40,
   "metadata": {},
   "outputs": [],
   "source": [
    "agg_dict_4 = {'order_number':{'_up_order_count': 'count', \n",
    "                              '_up_first_order_number': 'min', \n",
    "                              '_up_last_order_number':'max',\n",
    "                              '_up_order_past_appears_mean':'mean',# user purchased this product in which past orders = mean\n",
    "                              '_up_order_past_appears_std':'std'}, \n",
    "              'add_to_cart_order':{'_up_average_cart_position': 'mean',\n",
    "                                   '_up_std_cart_position': 'std'}}"
   ]
  },
  {
   "cell_type": "code",
   "execution_count": 41,
   "metadata": {},
   "outputs": [
    {
     "name": "stdout",
     "output_type": "stream",
     "text": [
      "add stats features begin ...\n",
      "add stats features end ...\n",
      "duration 94.15769910812378 s \n",
      "\n"
     ]
    }
   ],
   "source": [
    "data = ka_add_groupby_features_1_vs_n(df=priorsXorders, group_columns_list=['user_id', 'product_id'], agg_dict=agg_dict_4)"
   ]
  },
  {
   "cell_type": "code",
   "execution_count": 42,
   "metadata": {},
   "outputs": [],
   "source": [
    "data['_up_order_past_appears_std'].fillna(0, inplace=True)\n",
    "data['_up_std_cart_position'].fillna(0, inplace=True)\n",
    "data = data.merge(prd, how='inner', on='product_id').merge(user_f, how='inner', on='user_id')"
   ]
  },
  {
   "cell_type": "code",
   "execution_count": 43,
   "metadata": {},
   "outputs": [],
   "source": [
    "data['_up_order_rate'] = data._up_order_count / data._user_total_orders\n",
    "data['_up_order_since_last_order'] = data._user_total_orders - data._up_last_order_number\n",
    "data['_up_order_since_last_order_normalize'] = data['_up_order_since_last_order'] / data['_user_total_orders']\n",
    "data['_up_order_past_appears_mean_normalize'] = data['_up_order_past_appears_mean'] / data._up_last_order_number\n",
    "data['_up_order_past_appears_std_normalize'] = data['_up_order_past_appears_std'] / data._up_last_order_number\n",
    "data['_up_order_rate_since_first_order'] = data._up_order_count / (data._user_total_orders - data._up_first_order_number + 1)"
   ]
  },
  {
   "cell_type": "markdown",
   "metadata": {},
   "source": [
    "User purchased this product in which past orders in interval"
   ]
  },
  {
   "cell_type": "code",
   "execution_count": 44,
   "metadata": {},
   "outputs": [],
   "source": [
    "tmp_group = priorsXorders['order_number'].groupby([priorsXorders.user_id,priorsXorders.product_id])\n",
    "_up_order_past_appears_interval_mean = tmp_group.agg(lambda x: np.mean(np.diff(np.sort(x))) if len(x) > 1 else -1)\n",
    "_up_order_past_appears_interval_std = tmp_group.agg(lambda x: np.std(np.diff(np.sort(x))) if len(x) > 1 else 0)\n",
    "tmp_df = pd.DataFrame(data={'_up_order_past_appears_interval_mean':_up_order_past_appears_interval_mean,\n",
    "                            '_up_order_past_appears_interval_std':_up_order_past_appears_interval_std})"
   ]
  },
  {
   "cell_type": "code",
   "execution_count": 45,
   "metadata": {},
   "outputs": [],
   "source": [
    "data = data.merge(right=tmp_df, left_on=[data.user_id, data.product_id], how='left', right_index=True)\n",
    "data['_up_order_past_appears_interval_mean'].loc[data['_up_order_past_appears_interval_mean']==-1] = data['_user_total_orders']. \\\n",
    "                                                                                                     loc[data['_up_order_past_appears_interval_mean']==-1]\n",
    "data['_up_order_past_appears_interval_mean_normalize'] = data['_up_order_past_appears_interval_mean'] / data['_user_total_orders']\n",
    "data['_up_order_past_appears_interval_std_normalize'] = data['_up_order_past_appears_interval_std'] / data['_user_total_orders']\n",
    "data['_up_order_expect_days_to_order'] = data['_up_order_past_appears_interval_mean'] - data['_up_order_since_last_order']\n",
    "data['_up_order_expect_days_to_order_normalize'] = data['_up_order_expect_days_to_order'] / data._user_total_orders"
   ]
  },
  {
   "cell_type": "markdown",
   "metadata": {},
   "source": [
    "Add user_id to train set"
   ]
  },
  {
   "cell_type": "code",
   "execution_count": 46,
   "metadata": {},
   "outputs": [],
   "source": [
    "train = train.merge(right=orders[['order_id', 'user_id']], how='left', on='order_id')\n",
    "data = data.merge(train[['user_id', 'product_id', 'reordered']], on=['user_id', 'product_id'], how='left')"
   ]
  },
  {
   "cell_type": "code",
   "execution_count": 47,
   "metadata": {},
   "outputs": [],
   "source": [
    "train = data.loc[data.eval_set=='train', :]\n",
    "train.loc[:, 'reordered'] = train.reordered.fillna(0)\n",
    "X_test = data.loc[data.eval_set=='test', :]\n",
    "X_train = train.drop('reordered', axis=1)\n",
    "y_train = train.reordered"
   ]
  },
  {
   "cell_type": "code",
   "execution_count": 48,
   "metadata": {},
   "outputs": [],
   "source": [
    "X_train.to_hdf('X_train_w32.h5', 'X_train', mode='w', format='table')\n",
    "y_train.to_hdf('y_train_w32.h5', 'y_train', mode='w', format='table')\n",
    "X_test.to_hdf('X_test_w32.h5', 'X_test', mode='w', format='table')"
   ]
  }
 ],
 "metadata": {
  "kernelspec": {
   "display_name": "Python 3",
   "language": "python",
   "name": "python3"
  },
  "language_info": {
   "codemirror_mode": {
    "name": "ipython",
    "version": 3
   },
   "file_extension": ".py",
   "mimetype": "text/x-python",
   "name": "python",
   "nbconvert_exporter": "python",
   "pygments_lexer": "ipython3",
   "version": "3.6.5"
  }
 },
 "nbformat": 4,
 "nbformat_minor": 2
}
