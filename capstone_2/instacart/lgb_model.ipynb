{
 "cells": [
  {
   "cell_type": "code",
   "execution_count": 1,
   "metadata": {},
   "outputs": [],
   "source": [
    "import pandas as pd\n",
    "import numpy as np\n",
    "import lightgbm as lgb\n",
    "from sklearn.model_selection import GroupKFold\n",
    "from sklearn.utils import shuffle"
   ]
  },
  {
   "cell_type": "code",
   "execution_count": 2,
   "metadata": {},
   "outputs": [],
   "source": [
    "from sklearn.model_selection import train_test_split, GridSearchCV\n",
    "from sklearn.pipeline import Pipeline"
   ]
  },
  {
   "cell_type": "code",
   "execution_count": 3,
   "metadata": {},
   "outputs": [],
   "source": [
    "X_train = pd.read_hdf('X_train_w32.h5')\n",
    "y_train = pd.read_hdf('y_train_w32.h5')\n",
    "X_test = pd.read_hdf('X_test_w32.h5')\n",
    "X_test.drop('reordered', axis=1, inplace=True)"
   ]
  },
  {
   "cell_type": "code",
   "execution_count": 4,
   "metadata": {},
   "outputs": [],
   "source": [
    "y_train = y_train.astype('int64')"
   ]
  },
  {
   "cell_type": "code",
   "execution_count": 5,
   "metadata": {},
   "outputs": [
    {
     "data": {
      "text/plain": [
       "0    1\n",
       "1    1\n",
       "2    0\n",
       "3    0\n",
       "4    1\n",
       "5    0\n",
       "6    0\n",
       "7    0\n",
       "8    1\n",
       "9    1\n",
       "Name: reordered, dtype: int64"
      ]
     },
     "execution_count": 5,
     "metadata": {},
     "output_type": "execute_result"
    }
   ],
   "source": [
    "y_train[:10]"
   ]
  },
  {
   "cell_type": "code",
   "execution_count": 6,
   "metadata": {},
   "outputs": [
    {
     "data": {
      "text/plain": [
       "array([1, 0], dtype=int64)"
      ]
     },
     "execution_count": 6,
     "metadata": {},
     "output_type": "execute_result"
    }
   ],
   "source": [
    "y_train.unique()"
   ]
  },
  {
   "cell_type": "code",
   "execution_count": 7,
   "metadata": {},
   "outputs": [],
   "source": [
    "X = X_train\n",
    "y = y_train"
   ]
  },
  {
   "cell_type": "code",
   "execution_count": 8,
   "metadata": {},
   "outputs": [],
   "source": [
    "X_train, X_test, y_train, y_test = train_test_split(X, y, test_size=0.2, random_state=42)"
   ]
  },
  {
   "cell_type": "code",
   "execution_count": 9,
   "metadata": {},
   "outputs": [
    {
     "data": {
      "text/html": [
       "<div>\n",
       "<style scoped>\n",
       "    .dataframe tbody tr th:only-of-type {\n",
       "        vertical-align: middle;\n",
       "    }\n",
       "\n",
       "    .dataframe tbody tr th {\n",
       "        vertical-align: top;\n",
       "    }\n",
       "\n",
       "    .dataframe thead th {\n",
       "        text-align: right;\n",
       "    }\n",
       "</style>\n",
       "<table border=\"1\" class=\"dataframe\">\n",
       "  <thead>\n",
       "    <tr style=\"text-align: right;\">\n",
       "      <th></th>\n",
       "      <th>user_id</th>\n",
       "      <th>product_id</th>\n",
       "      <th>_up_order_count</th>\n",
       "      <th>_up_first_order_number</th>\n",
       "      <th>_up_last_order_number</th>\n",
       "      <th>_up_order_past_appears_mean</th>\n",
       "      <th>_up_order_past_appears_std</th>\n",
       "      <th>_up_average_cart_position</th>\n",
       "      <th>_up_std_cart_position</th>\n",
       "      <th>aisle_id</th>\n",
       "      <th>...</th>\n",
       "      <th>_up_order_since_last_order_normalize</th>\n",
       "      <th>_up_order_past_appears_mean_normalize</th>\n",
       "      <th>_up_order_past_appears_std_normalize</th>\n",
       "      <th>_up_order_rate_since_first_order</th>\n",
       "      <th>_up_order_past_appears_interval_mean</th>\n",
       "      <th>_up_order_past_appears_interval_std</th>\n",
       "      <th>_up_order_past_appears_interval_mean_normalize</th>\n",
       "      <th>_up_order_past_appears_interval_std_normalize</th>\n",
       "      <th>_up_order_expect_days_to_order</th>\n",
       "      <th>_up_order_expect_days_to_order_normalize</th>\n",
       "    </tr>\n",
       "  </thead>\n",
       "  <tbody>\n",
       "    <tr>\n",
       "      <th>6980471</th>\n",
       "      <td>6363</td>\n",
       "      <td>13269</td>\n",
       "      <td>2</td>\n",
       "      <td>13</td>\n",
       "      <td>18</td>\n",
       "      <td>15.5</td>\n",
       "      <td>3.535534</td>\n",
       "      <td>9.5</td>\n",
       "      <td>4.949747</td>\n",
       "      <td>120</td>\n",
       "      <td>...</td>\n",
       "      <td>0.660377</td>\n",
       "      <td>0.861111</td>\n",
       "      <td>0.196419</td>\n",
       "      <td>0.048780</td>\n",
       "      <td>5.0</td>\n",
       "      <td>0.0</td>\n",
       "      <td>0.09434</td>\n",
       "      <td>0.0</td>\n",
       "      <td>-30.0</td>\n",
       "      <td>-0.566038</td>\n",
       "    </tr>\n",
       "    <tr>\n",
       "      <th>8228503</th>\n",
       "      <td>59675</td>\n",
       "      <td>12002</td>\n",
       "      <td>1</td>\n",
       "      <td>34</td>\n",
       "      <td>34</td>\n",
       "      <td>34.0</td>\n",
       "      <td>0.000000</td>\n",
       "      <td>16.0</td>\n",
       "      <td>0.000000</td>\n",
       "      <td>128</td>\n",
       "      <td>...</td>\n",
       "      <td>0.227273</td>\n",
       "      <td>1.000000</td>\n",
       "      <td>0.000000</td>\n",
       "      <td>0.090909</td>\n",
       "      <td>44.0</td>\n",
       "      <td>0.0</td>\n",
       "      <td>1.00000</td>\n",
       "      <td>0.0</td>\n",
       "      <td>34.0</td>\n",
       "      <td>0.772727</td>\n",
       "    </tr>\n",
       "    <tr>\n",
       "      <th>12236205</th>\n",
       "      <td>112228</td>\n",
       "      <td>15867</td>\n",
       "      <td>1</td>\n",
       "      <td>2</td>\n",
       "      <td>2</td>\n",
       "      <td>2.0</td>\n",
       "      <td>0.000000</td>\n",
       "      <td>12.0</td>\n",
       "      <td>0.000000</td>\n",
       "      <td>4</td>\n",
       "      <td>...</td>\n",
       "      <td>0.600000</td>\n",
       "      <td>1.000000</td>\n",
       "      <td>0.000000</td>\n",
       "      <td>0.250000</td>\n",
       "      <td>5.0</td>\n",
       "      <td>0.0</td>\n",
       "      <td>1.00000</td>\n",
       "      <td>0.0</td>\n",
       "      <td>2.0</td>\n",
       "      <td>0.400000</td>\n",
       "    </tr>\n",
       "    <tr>\n",
       "      <th>8239885</th>\n",
       "      <td>78485</td>\n",
       "      <td>36878</td>\n",
       "      <td>1</td>\n",
       "      <td>5</td>\n",
       "      <td>5</td>\n",
       "      <td>5.0</td>\n",
       "      <td>0.000000</td>\n",
       "      <td>18.0</td>\n",
       "      <td>0.000000</td>\n",
       "      <td>1</td>\n",
       "      <td>...</td>\n",
       "      <td>0.375000</td>\n",
       "      <td>1.000000</td>\n",
       "      <td>0.000000</td>\n",
       "      <td>0.250000</td>\n",
       "      <td>8.0</td>\n",
       "      <td>0.0</td>\n",
       "      <td>1.00000</td>\n",
       "      <td>0.0</td>\n",
       "      <td>5.0</td>\n",
       "      <td>0.625000</td>\n",
       "    </tr>\n",
       "    <tr>\n",
       "      <th>12401690</th>\n",
       "      <td>161890</td>\n",
       "      <td>45842</td>\n",
       "      <td>1</td>\n",
       "      <td>2</td>\n",
       "      <td>2</td>\n",
       "      <td>2.0</td>\n",
       "      <td>0.000000</td>\n",
       "      <td>12.0</td>\n",
       "      <td>0.000000</td>\n",
       "      <td>108</td>\n",
       "      <td>...</td>\n",
       "      <td>0.333333</td>\n",
       "      <td>1.000000</td>\n",
       "      <td>0.000000</td>\n",
       "      <td>0.500000</td>\n",
       "      <td>3.0</td>\n",
       "      <td>0.0</td>\n",
       "      <td>1.00000</td>\n",
       "      <td>0.0</td>\n",
       "      <td>2.0</td>\n",
       "      <td>0.666667</td>\n",
       "    </tr>\n",
       "  </tbody>\n",
       "</table>\n",
       "<p>5 rows × 60 columns</p>\n",
       "</div>"
      ],
      "text/plain": [
       "          user_id  product_id  _up_order_count  _up_first_order_number  \\\n",
       "6980471      6363       13269                2                      13   \n",
       "8228503     59675       12002                1                      34   \n",
       "12236205   112228       15867                1                       2   \n",
       "8239885     78485       36878                1                       5   \n",
       "12401690   161890       45842                1                       2   \n",
       "\n",
       "          _up_last_order_number  _up_order_past_appears_mean  \\\n",
       "6980471                      18                         15.5   \n",
       "8228503                      34                         34.0   \n",
       "12236205                      2                          2.0   \n",
       "8239885                       5                          5.0   \n",
       "12401690                      2                          2.0   \n",
       "\n",
       "          _up_order_past_appears_std  _up_average_cart_position  \\\n",
       "6980471                     3.535534                        9.5   \n",
       "8228503                     0.000000                       16.0   \n",
       "12236205                    0.000000                       12.0   \n",
       "8239885                     0.000000                       18.0   \n",
       "12401690                    0.000000                       12.0   \n",
       "\n",
       "          _up_std_cart_position aisle_id  \\\n",
       "6980471                4.949747      120   \n",
       "8228503                0.000000      128   \n",
       "12236205               0.000000        4   \n",
       "8239885                0.000000        1   \n",
       "12401690               0.000000      108   \n",
       "\n",
       "                            ...                     \\\n",
       "6980471                     ...                      \n",
       "8228503                     ...                      \n",
       "12236205                    ...                      \n",
       "8239885                     ...                      \n",
       "12401690                    ...                      \n",
       "\n",
       "         _up_order_since_last_order_normalize  \\\n",
       "6980471                              0.660377   \n",
       "8228503                              0.227273   \n",
       "12236205                             0.600000   \n",
       "8239885                              0.375000   \n",
       "12401690                             0.333333   \n",
       "\n",
       "          _up_order_past_appears_mean_normalize  \\\n",
       "6980471                                0.861111   \n",
       "8228503                                1.000000   \n",
       "12236205                               1.000000   \n",
       "8239885                                1.000000   \n",
       "12401690                               1.000000   \n",
       "\n",
       "          _up_order_past_appears_std_normalize  \\\n",
       "6980471                               0.196419   \n",
       "8228503                               0.000000   \n",
       "12236205                              0.000000   \n",
       "8239885                               0.000000   \n",
       "12401690                              0.000000   \n",
       "\n",
       "          _up_order_rate_since_first_order  \\\n",
       "6980471                           0.048780   \n",
       "8228503                           0.090909   \n",
       "12236205                          0.250000   \n",
       "8239885                           0.250000   \n",
       "12401690                          0.500000   \n",
       "\n",
       "          _up_order_past_appears_interval_mean  \\\n",
       "6980471                                    5.0   \n",
       "8228503                                   44.0   \n",
       "12236205                                   5.0   \n",
       "8239885                                    8.0   \n",
       "12401690                                   3.0   \n",
       "\n",
       "          _up_order_past_appears_interval_std  \\\n",
       "6980471                                   0.0   \n",
       "8228503                                   0.0   \n",
       "12236205                                  0.0   \n",
       "8239885                                   0.0   \n",
       "12401690                                  0.0   \n",
       "\n",
       "          _up_order_past_appears_interval_mean_normalize  \\\n",
       "6980471                                          0.09434   \n",
       "8228503                                          1.00000   \n",
       "12236205                                         1.00000   \n",
       "8239885                                          1.00000   \n",
       "12401690                                         1.00000   \n",
       "\n",
       "          _up_order_past_appears_interval_std_normalize  \\\n",
       "6980471                                             0.0   \n",
       "8228503                                             0.0   \n",
       "12236205                                            0.0   \n",
       "8239885                                             0.0   \n",
       "12401690                                            0.0   \n",
       "\n",
       "          _up_order_expect_days_to_order  \\\n",
       "6980471                            -30.0   \n",
       "8228503                             34.0   \n",
       "12236205                             2.0   \n",
       "8239885                              5.0   \n",
       "12401690                             2.0   \n",
       "\n",
       "          _up_order_expect_days_to_order_normalize  \n",
       "6980471                                  -0.566038  \n",
       "8228503                                   0.772727  \n",
       "12236205                                  0.400000  \n",
       "8239885                                   0.625000  \n",
       "12401690                                  0.666667  \n",
       "\n",
       "[5 rows x 60 columns]"
      ]
     },
     "execution_count": 9,
     "metadata": {},
     "output_type": "execute_result"
    }
   ],
   "source": [
    "X_train.head()"
   ]
  },
  {
   "cell_type": "code",
   "execution_count": 10,
   "metadata": {},
   "outputs": [
    {
     "data": {
      "text/plain": [
       "(6779728, 60)"
      ]
     },
     "execution_count": 10,
     "metadata": {},
     "output_type": "execute_result"
    }
   ],
   "source": [
    "X_train.shape"
   ]
  },
  {
   "cell_type": "code",
   "execution_count": 11,
   "metadata": {},
   "outputs": [
    {
     "data": {
      "text/plain": [
       "(1694933, 60)"
      ]
     },
     "execution_count": 11,
     "metadata": {},
     "output_type": "execute_result"
    }
   ],
   "source": [
    "X_test.shape"
   ]
  },
  {
   "cell_type": "code",
   "execution_count": 12,
   "metadata": {},
   "outputs": [
    {
     "data": {
      "text/plain": [
       "6779728"
      ]
     },
     "execution_count": 12,
     "metadata": {},
     "output_type": "execute_result"
    }
   ],
   "source": [
    "len(y_train)"
   ]
  },
  {
   "cell_type": "code",
   "execution_count": 13,
   "metadata": {},
   "outputs": [
    {
     "data": {
      "text/plain": [
       "1694933"
      ]
     },
     "execution_count": 13,
     "metadata": {},
     "output_type": "execute_result"
    }
   ],
   "source": [
    "len(y_test)"
   ]
  },
  {
   "cell_type": "code",
   "execution_count": 14,
   "metadata": {},
   "outputs": [],
   "source": [
    "K = 5\n",
    "groups = X_train.user_id\n",
    "gkf = GroupKFold(n_splits=K).split(X=X_train, y=y_train, groups=groups)"
   ]
  },
  {
   "cell_type": "code",
   "execution_count": 15,
   "metadata": {},
   "outputs": [],
   "source": [
    "gridParams = {'bagging_fraction': [0.8, 0.7, 0.6, 0.5],\n",
    "              'reg_alpha': [0.1, 0.3, 1, 3, 10, 30],\n",
    "              'reg_lambda': [0.3, 1, 3, 10, 30]}"
   ]
  },
  {
   "cell_type": "code",
   "execution_count": 16,
   "metadata": {},
   "outputs": [],
   "source": [
    "lgb_est = lgb.LGBMClassifier(task='train',\n",
    "                             boosting_type='gbdt',\n",
    "                             learning_rate=0.1,\n",
    "                             objective='binary',\n",
    "                             metric=['binary_logloss', 'auc'],\n",
    "                             num_leaves=128,\n",
    "                             max_depth=12,\n",
    "                             num_threads=2,\n",
    "                             feature_fraction=0.75,\n",
    "                             bagging_freq=5,\n",
    "                             bagging_seed=1969)#,\n",
    "                             #bagging_fraction=0.8,\n",
    "                             #reg_alpha=0.3,\n",
    "                             #reg_lambda=1)"
   ]
  },
  {
   "cell_type": "code",
   "execution_count": 17,
   "metadata": {},
   "outputs": [],
   "source": [
    "model = GridSearchCV(estimator=lgb_est, param_grid=gridParams, cv=gkf, scoring='accuracy')"
   ]
  },
  {
   "cell_type": "code",
   "execution_count": 18,
   "metadata": {},
   "outputs": [
    {
     "data": {
      "text/plain": [
       "GridSearchCV(cv=<generator object _BaseKFold.split at 0x000002389D12B830>,\n",
       "       error_score='raise',\n",
       "       estimator=LGBMClassifier(bagging_freq=5, bagging_seed=1969, boosting_type='gbdt',\n",
       "        class_weight=None, colsample_bytree=1.0, feature_fraction=0.75,\n",
       "        learning_rate=0.1, max_depth=12, metric=['binary_logloss', 'auc'],\n",
       "        min_child_samples=20, min_child_weight=0.001, min_split_gain=0....a=0.0, silent=True, subsample=1.0,\n",
       "        subsample_for_bin=200000, subsample_freq=1, task='train'),\n",
       "       fit_params=None, iid=True, n_jobs=1,\n",
       "       param_grid={'bagging_fraction': [0.8, 0.7, 0.6, 0.5], 'reg_alpha': [0.1, 0.3, 1, 3, 10, 30], 'reg_lambda': [0.3, 1, 3, 10, 30]},\n",
       "       pre_dispatch='2*n_jobs', refit=True, return_train_score='warn',\n",
       "       scoring='accuracy', verbose=0)"
      ]
     },
     "execution_count": 18,
     "metadata": {},
     "output_type": "execute_result"
    }
   ],
   "source": [
    "model.fit(X=X_train, y=y_train)"
   ]
  },
  {
   "cell_type": "code",
   "execution_count": 20,
   "metadata": {},
   "outputs": [
    {
     "data": {
      "text/plain": [
       "{'bagging_fraction': 0.8, 'reg_alpha': 10, 'reg_lambda': 10}"
      ]
     },
     "execution_count": 20,
     "metadata": {},
     "output_type": "execute_result"
    }
   ],
   "source": [
    "model.best_params_"
   ]
  },
  {
   "cell_type": "code",
   "execution_count": 21,
   "metadata": {},
   "outputs": [],
   "source": [
    "lgbclass_params = model.best_params_"
   ]
  },
  {
   "cell_type": "code",
   "execution_count": 22,
   "metadata": {},
   "outputs": [],
   "source": [
    "import pickle\n",
    "\n",
    "model_pickle_out = open('lgbclass_params.pickle', 'wb')\n",
    "pickle.dump(lgbclass_params, model_pickle_out)\n",
    "model_pickle_out.close()"
   ]
  },
  {
   "cell_type": "code",
   "execution_count": null,
   "metadata": {},
   "outputs": [],
   "source": []
  },
  {
   "cell_type": "code",
   "execution_count": 23,
   "metadata": {},
   "outputs": [],
   "source": [
    "# Prediction\n",
    "y_pred = model.predict(X_test)"
   ]
  },
  {
   "cell_type": "code",
   "execution_count": 24,
   "metadata": {},
   "outputs": [],
   "source": [
    "# Confusion Matrix\n",
    "from sklearn.metrics import confusion_matrix\n",
    "cm = confusion_matrix(y_test, y_pred)"
   ]
  },
  {
   "cell_type": "code",
   "execution_count": 25,
   "metadata": {},
   "outputs": [
    {
     "name": "stdout",
     "output_type": "stream",
     "text": [
      "[[1510814   17989]\n",
      " [ 133831   32299]]\n"
     ]
    }
   ],
   "source": [
    "print(cm)"
   ]
  },
  {
   "cell_type": "code",
   "execution_count": 26,
   "metadata": {},
   "outputs": [],
   "source": [
    "# Accuracy Score\n",
    "from sklearn.metrics import accuracy_score\n",
    "accuracy = accuracy_score(y_pred, y_test)"
   ]
  },
  {
   "cell_type": "code",
   "execution_count": 27,
   "metadata": {},
   "outputs": [
    {
     "name": "stdout",
     "output_type": "stream",
     "text": [
      "0.910427137828\n"
     ]
    }
   ],
   "source": [
    "print(accuracy)"
   ]
  }
 ],
 "metadata": {
  "kernelspec": {
   "display_name": "Python 3",
   "language": "python",
   "name": "python3"
  },
  "language_info": {
   "codemirror_mode": {
    "name": "ipython",
    "version": 3
   },
   "file_extension": ".py",
   "mimetype": "text/x-python",
   "name": "python",
   "nbconvert_exporter": "python",
   "pygments_lexer": "ipython3",
   "version": "3.6.5"
  }
 },
 "nbformat": 4,
 "nbformat_minor": 2
}
